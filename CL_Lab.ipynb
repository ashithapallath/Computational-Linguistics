{
  "nbformat": 4,
  "nbformat_minor": 0,
  "metadata": {
    "colab": {
      "provenance": [],
      "authorship_tag": "ABX9TyO5Okrx6sKSVn6IfIBpxM29",
      "include_colab_link": true
    },
    "kernelspec": {
      "name": "python3",
      "display_name": "Python 3"
    },
    "language_info": {
      "name": "python"
    }
  },
  "cells": [
    {
      "cell_type": "markdown",
      "metadata": {
        "id": "view-in-github",
        "colab_type": "text"
      },
      "source": [
        "<a href=\"https://colab.research.google.com/github/ashithapallath/Computational-Linguistics/blob/main/CL_Lab.ipynb\" target=\"_parent\"><img src=\"https://colab.research.google.com/assets/colab-badge.svg\" alt=\"Open In Colab\"/></a>"
      ]
    },
    {
      "cell_type": "markdown",
      "source": [
        " 1.Implement a simple rule-based Text tokenizer for the English language using regular expressions. Your tokenizer should consider punctuations and special symbols as separate tokens. Contractions like \"isn't\" should be regarded as 2 tokens - \"is\" and \"n't\". Also identify abbreviations (eg, U.S.A) and internal hyphenation (eg. ice-cream), as single tokens. draft a python code for this give explanation of the code also"
      ],
      "metadata": {
        "id": "mPRVFCauJHtt"
      }
    },
    {
      "cell_type": "code",
      "source": [
        "def tokenizeText(text):\n",
        "    pattern = r\"\"\"\n",
        "    (?:[A-Za-z]\\.){2,}[A-Z]  # Matches abbreviations like U.S.A or U.K\n",
        "    | \\w+(?:-\\w+)+            # Matches hyphenated words like ice-cream\n",
        "    | \\b([A-Za-z]+)(n't|'s|'ll|'em|'ve|'re|'d)\\b # Matches contractions like isn't, you'll\n",
        "    | \\b\\w+\\b    # Matches standalone words\n",
        "    | [.,!?;\"()\\[\\]{}<>] # Matches punctuation as separate tokens\n",
        "    \"\"\"\n",
        "    tokens = []\n",
        "    for match in re.finditer(pattern, text, flags=re.VERBOSE):\n",
        "        if match.group(1):\n",
        "            tokens.extend([match.group(1), match.group(2)])\n",
        "        else:\n",
        "            tokens.append(match.group(0))\n",
        "    return tokens\n",
        "\n",
        "text = 'Implement a simple rule-based Text tokenizer for the English language using regular expressions. Your tokenizer should consider punctuations and special symbols as separate tokens. Contractions like \"isn\\'t\" should be regarded as 2 tokens - \"is\" and \"n\\'t\". Also identify abbreviations (eg, U.S.A) and internal hyphenation (eg. ice-cream), as single tokens.'\n",
        "tokens = tokenizeText(text)\n",
        "tokens = set(tokens)\n",
        "print(tokens)"
      ],
      "metadata": {
        "colab": {
          "base_uri": "https://localhost:8080/"
        },
        "id": "IY3zvN7GJS2i",
        "outputId": "b95358bd-af29-463c-dd93-378eaa825706"
      },
      "execution_count": null,
      "outputs": [
        {
          "output_type": "stream",
          "name": "stdout",
          "text": [
            "{'hyphenation', 'single', '.', 'Implement', 'should', 'identify', 'symbols', 'U.S.A', ',', 'using', 'Your', '2', 'Contractions', 'be', ')', 'for', 'regarded', 'tokens', 'rule-based', 'special', 'separate', 'abbreviations', 'like', 'simple', 'a', 't', 'regular', 'the', '\"', '(', 'punctuations', 'as', 'English', 'is', 'internal', 'ice-cream', 'n', \"n't\", 'Text', 'Also', 'language', 'tokenizer', 'consider', 'and', 'e.g.', 'expressions'}\n"
          ]
        }
      ]
    },
    {
      "cell_type": "markdown",
      "source": [
        "2.Design and implement a Finite State Automata(FSA) that accepts English plural nouns ending with the character ‘y’, e.g. boys, toys, ponies, skies, and puppies but not boies or toies or ponys. (Hint: Words that end with a vowel followed by ‘y’ are appended with ‘s'\n",
        "                 and will not be replaced with “ies” in their plural form).\n"
      ],
      "metadata": {
        "id": "NKEtyZ-6KEJa"
      }
    },
    {
      "cell_type": "code",
      "source": [
        "import graphviz\n",
        "\n",
        "def is_plural_noun_accepted_fsa(word):\n",
        "    # Check if the word is at least 2 characters long and ends with 's'\n",
        "    if len(word) < 2 or word[-1] != 's':\n",
        "        return False\n",
        "\n",
        "    # Reverse the word for easier state processing\n",
        "    word = word[::-1]\n",
        "    state = 'S1'  # Initial state\n",
        "\n",
        "    for char in word[1:]:  # Skip the last character ('s')\n",
        "        if state == 'S1':\n",
        "            if char == 'y':\n",
        "                state = 'S2'  # Transition to state for vowel + 'y'\n",
        "            elif char == 'e':\n",
        "                state = 'S3'  # Transition to state for 'ies'\n",
        "            else:\n",
        "                return False  # Invalid transition\n",
        "\n",
        "        elif state == 'S2':\n",
        "            if char in 'aeiou':\n",
        "                state = 'S5'  # Valid transition to vowel + 'y' state\n",
        "            else:\n",
        "                return False  # Invalid transition\n",
        "\n",
        "        elif state == 'S3':\n",
        "            if char == 'i':\n",
        "                state = 'S4'  # Valid transition to state for 'ies'\n",
        "            else:\n",
        "                return False  # Invalid transition\n",
        "\n",
        "        elif state == 'S4':\n",
        "            if char.isalpha() and char not in 'aeiou':\n",
        "                state = 'S6'  # Transition to final state after consonant\n",
        "            else:\n",
        "                return False  # Invalid transition\n",
        "\n",
        "        # States S5 and S6 indicate acceptance; continue checking\n",
        "        elif state in ('S5', 'S6'):\n",
        "            continue\n",
        "\n",
        "    return True  # If we reach here, the word is a valid plural noun\n",
        "\n",
        "def draw_fsa():\n",
        "    dot = graphviz.Digraph(comment='FSA for Plural Noun Detection')\n",
        "\n",
        "    # Define states\n",
        "    dot.node('S1', 'S1 (Start)', shape='circle')  # Start state\n",
        "    dot.node('S2', 'S2 (y)', shape='circle')\n",
        "    dot.node('S3', 'S3 (e)', shape='circle')\n",
        "    dot.node('S4', 'S4 (i)', shape='circle')\n",
        "    dot.node('S5', 'S5 (vowel + y)', shape='doublecircle')  # Accepting state\n",
        "    dot.node('S6', 'S6 (consonant)', shape='doublecircle')  # Accepting state\n",
        "\n",
        "    # Define transitions\n",
        "    dot.edge('S1', 'S2', \"y\")\n",
        "    dot.edge('S1', 'S3', \"e\")\n",
        "    dot.edge('S2', 'S5', \"vowel\")\n",
        "    dot.edge('S3', 'S4', \"i\")\n",
        "    dot.edge('S4', 'S6', \"consonant\")\n",
        "\n",
        "    return dot\n",
        "\n",
        "# Test cases\n",
        "test_words = ['boys', 'toys', 'ponies', 'skies', 'puppies', 'boies', 'toies', 'ponys', \"Babbies\"]\n",
        "results = {word: is_plural_noun_accepted_fsa(word) for word in test_words}\n",
        "print(results)\n",
        "\n",
        "# Draw and render the FSA\n",
        "fsa_graph = draw_fsa()\n",
        "fsa_graph.render('plural_noun_fsa', format='png', cleanup=True)\n",
        "\n",
        "# Display the generated FSA diagram in a Jupyter Notebook (if using one)\n",
        "from IPython.display import Image\n",
        "Image('plural_noun_fsa.png')\n"
      ],
      "metadata": {
        "colab": {
          "base_uri": "https://localhost:8080/",
          "height": 818
        },
        "id": "ffxUk3R3KG6O",
        "outputId": "0f96f3ea-e5ba-4786-8ff2-3984261a8b76"
      },
      "execution_count": null,
      "outputs": [
        {
          "output_type": "stream",
          "name": "stdout",
          "text": [
            "{'boys': True, 'toys': True, 'ponies': True, 'skies': True, 'puppies': True, 'boies': False, 'toies': False, 'ponys': False, 'Babbies': True}\n"
          ]
        },
        {
          "output_type": "execute_result",
          "data": {
            "image/png": "[encoded data removed]",
            "text/plain": [
              "<IPython.core.display.Image object>"
            ]
          },
          "metadata": {},
          "execution_count": 1
        }
      ]
    },
    {
      "cell_type": "markdown",
      "source": [
        "3.Design and implement a Finite State Transducer(FST) that accepts lexical forms of\n",
        "English words(e.g. shown below) and generates its corresponding plurals, based on the\n",
        "e-insertion spelling rule є => e / {x,s,z}^ __ s#\n",
        "^ is the morpheme boundary and # - word boundary\n",
        "\n",
        "![image.png](data:image/png;base64,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)"
      ],
      "metadata": {
        "id": "Rkak6qdyKOk4"
      }
    },
    {
      "cell_type": "code",
      "source": [
        "import graphviz\n",
        "\n",
        "def generate_plural_fst(word):\n",
        "    # Start in State 0\n",
        "    state = 0\n",
        "\n",
        "    # Transition logic based on states\n",
        "    if state == 0:\n",
        "        # Check for special cases requiring 'es'\n",
        "        if word.endswith(\"^s#\"):\n",
        "            # Remove the suffix for processing\n",
        "            base_word = word[:-3]\n",
        "\n",
        "            # Check if the base word ends with special cases for pluralization\n",
        "            if base_word.endswith((\"x\", \"s\", \"z\", \"ch\", \"sh\")):\n",
        "                # Transition to plural form with 'es'\n",
        "                return base_word + \"es\"\n",
        "            else:\n",
        "                # Default case: pluralize with 's'\n",
        "                return base_word + \"s\"\n",
        "\n",
        "    # If no rules apply, return the original word\n",
        "    return word\n",
        "\n",
        "def draw_fst():\n",
        "    dot = graphviz.Digraph(comment='FST for Plural Generation')\n",
        "\n",
        "    # Define states\n",
        "    dot.node('S0', 'S0 (Start)', shape='circle')  # Start state\n",
        "    dot.node('S1', 'S1 (Special Case)', shape='circle')\n",
        "    dot.node('S2', 'S2 (Default Case)', shape='circle')\n",
        "    dot.node('Accept', 'Accepted', shape='doublecircle')  # Only final state as double circle\n",
        "\n",
        "    # Define transitions\n",
        "    dot.edge('S0', 'S1', 'ends with x/s/z')\n",
        "    dot.edge('S1', 'Accept', 'append \"es\"')\n",
        "    dot.edge('S0', 'S2', 'otherwise')\n",
        "    dot.edge('S2', 'Accept', 'append \"s\"')\n",
        "\n",
        "    return dot\n",
        "\n",
        "# Test cases to check plural generation\n",
        "test_cases = [\"fox^s#\", \"boy^s#\", \"bus^s#\", \"dog^s#\", \"box^s#\"]\n",
        "# Dictionary to store results for each test case\n",
        "plural_forms = {word: generate_plural_fst(word) for word in test_cases}\n",
        "\n",
        "print(plural_forms)\n",
        "\n",
        "# Draw and render the FST\n",
        "fst_graph = draw_fst()\n",
        "fst_graph.render('plural_generation_fst', format='png', cleanup=True)\n",
        "\n",
        "# Display the generated FST diagram\n",
        "from IPython.display import Image\n",
        "Image('plural_generation_fst.png')\n"
      ],
      "metadata": {
        "colab": {
          "base_uri": "https://localhost:8080/",
          "height": 626
        },
        "id": "R4YBUNYuKaSv",
        "outputId": "349f0917-03de-4b31-f7e4-7d8ba3bc8c9d"
      },
      "execution_count": 1,
      "outputs": [
        {
          "output_type": "stream",
          "name": "stdout",
          "text": [
            "{'fox^s#': 'foxes', 'boy^s#': 'boys', 'bus^s#': 'buses', 'dog^s#': 'dogs', 'box^s#': 'boxes'}\n"
          ]
        },
        {
          "output_type": "execute_result",
          "data": {
            "image/png": "[encoded data removed]",
            "text/plain": [
              "<IPython.core.display.Image object>"
            ]
          },
          "metadata": {},
          "execution_count": 1
        }
      ]
    },
    {
      "cell_type": "markdown",
      "source": [
        "4.Implement the Minimum Edit Distance algorithm to find the edit distance between any\n",
        "           two given strings. Also, list the edit operations.\n",
        "\n"
      ],
      "metadata": {
        "id": "ZVGLfXJ2Kl0g"
      }
    },
    {
      "cell_type": "code",
      "source": [
        "import numpy as np\n",
        "\n",
        "def edit_distance(source, target):\n",
        "    \"\"\"\n",
        "    Calculate the edit distance between source and target strings,\n",
        "    and return the operations to convert source to target.\n",
        "    \"\"\"\n",
        "    # Initialize dimensions\n",
        "    len_source = len(source)\n",
        "    len_target = len(target)\n",
        "\n",
        "    # Initialize distance table\n",
        "    distance_table = np.zeros((len_source + 1, len_target + 1), dtype=int)\n",
        "\n",
        "    # Fill base cases\n",
        "    for i in range(len_source + 1):\n",
        "        distance_table[i][0] = i\n",
        "    for j in range(len_target + 1):\n",
        "        distance_table[0][j] = j\n",
        "\n",
        "    # Fill distance table with dynamic programming\n",
        "    for i in range(1, len_source + 1):\n",
        "        for j in range(1, len_target + 1):\n",
        "            if source[i - 1] == target[j - 1]:\n",
        "                distance_table[i][j] = distance_table[i - 1][j - 1]\n",
        "            else:\n",
        "                distance_table[i][j] = min(\n",
        "                    distance_table[i][j - 1] + 1,             # Insertion\n",
        "                    distance_table[i - 1][j] + 1,             # Deletion\n",
        "                    distance_table[i - 1][j - 1] + 2          # Substitution\n",
        "                )\n",
        "\n",
        "    # Trace back to determine operations\n",
        "    operations = []\n",
        "    i, j = len_source, len_target\n",
        "    while i > 0 or j > 0:\n",
        "        if i > 0 and j > 0 and source[i - 1] == target[j - 1]:\n",
        "            i, j = i - 1, j - 1\n",
        "        elif i > 0 and distance_table[i][j] == distance_table[i - 1][j] + 1:\n",
        "            operations.append(f\"Delete '{source[i - 1]}' from position {i}\")\n",
        "            i -= 1\n",
        "        elif j > 0 and distance_table[i][j] == distance_table[i][j - 1] + 1:\n",
        "            operations.append(f\"Insert '{target[j - 1]}' at position {j}\")\n",
        "            j -= 1\n",
        "        else:\n",
        "            operations.append(f\"Substitute '{source[i - 1]}' with '{target[j - 1]}' at position {i}\")\n",
        "            i, j = i - 1, j - 1\n",
        "\n",
        "    # Reverse operations for correct order\n",
        "    operations.reverse()\n",
        "    return distance_table[len_source][len_target], operations\n",
        "\n",
        "# Test the function with sample input\n",
        "source = \"exclusive\"\n",
        "target = \"inclusive\"\n",
        "distance, operations = edit_distance(source, target)\n",
        "print(\"Edit Distance:\", distance)\n",
        "print(\"Operations:\")\n",
        "for operation in operations:\n",
        "    print(operation)\n"
      ],
      "metadata": {
        "colab": {
          "base_uri": "https://localhost:8080/"
        },
        "id": "HgKqphWEKw6G",
        "outputId": "ad69fb23-8f56-43cd-f3ff-f90b1fa61faf"
      },
      "execution_count": 2,
      "outputs": [
        {
          "output_type": "stream",
          "name": "stdout",
          "text": [
            "Edit Distance: 4\n",
            "Operations:\n",
            "Insert 'i' at position 1\n",
            "Insert 'n' at position 2\n",
            "Delete 'e' from position 1\n",
            "Delete 'x' from position 2\n"
          ]
        }
      ]
    },
    {
      "cell_type": "markdown",
      "source": [
        "5.Design and implement a statistical spell checker for detecting and correcting non-word\n",
        "spelling errors in English, using the bigram language model. Your program should do the\n",
        "following:\n",
        "\n",
        "a. Tokenize the corpus and create a vocabulary of unique words.\n",
        "\n",
        "b. Create a bi-gram frequency table for all possible bigrams in the corpus.\n",
        "\n",
        "c. Scan the given input text to identify the non-word spelling errors\n",
        "\n",
        "d. Generate the candidate list using 1 edit distance from the misspelled words\n",
        "\n",
        "e. Suggest the best candidate word by calculating the probability of the given sentence using the bigram LM."
      ],
      "metadata": {
        "id": "APDZPqU4L5mg"
      }
    },
    {
      "cell_type": "markdown",
      "source": [
        "6.Implement a text classifier for sentiment analysis using the Naive Bayes theorem. Use\n",
        "Add-k smoothing to handle zero probabilities. Compare the performance of your classifier for k values 0.25, 0.75, and 1."
      ],
      "metadata": {
        "id": "52rV-CNxPNQ3"
      }
    },
    {
      "cell_type": "code",
      "source": [
        "import re\n",
        "from collections import defaultdict\n",
        "\n",
        "def tokenize(text):\n",
        "    # Tokenize text into words using regex for simplicity\n",
        "    return re.findall(r'\\b\\w+\\b', text.lower())\n",
        "\n",
        "def build_vocabulary_and_bigrams(corpus):\n",
        "    words = tokenize(corpus)\n",
        "    vocabulary = set(words)\n",
        "\n",
        "    bigram_freq = defaultdict(int)\n",
        "    for i in range(len(words) - 1):\n",
        "        bigram = (words[i], words[i+1])\n",
        "        bigram_freq[bigram] += 1\n",
        "\n",
        "    print(\"Vocabulary:\", vocabulary)  # Print the vocabulary\n",
        "    print(\"Bigram Frequency Table:\", dict(bigram_freq))  # Print bigram frequency table\n",
        "\n",
        "    return vocabulary, bigram_freq\n",
        "\n",
        "def find_misspellings(text, vocabulary):\n",
        "    words = tokenize(text)\n",
        "    misspellings = [word for word in words if word not in vocabulary]\n",
        "    print(\"Identified Misspellings:\", misspellings)  # Print identified misspellings\n",
        "    return misspellings\n",
        "\n",
        "def edits1(word):\n",
        "    # Generate all words one edit away from `word`\n",
        "    letters = 'abcdefghijklmnopqrstuvwxyz'\n",
        "    splits = [(word[:i], word[i:]) for i in range(len(word) + 1)]\n",
        "    deletes = [L + R[1:] for L, R in splits if R]\n",
        "    transposes = [L + R[1] + R[0] + R[2:] for L, R in splits if len(R) > 1]\n",
        "    replaces = [L + c + R[1:] for L, R in splits if R for c in letters]\n",
        "    inserts = [L + c + R for L, R in splits for c in letters]\n",
        "    return set(deletes + transposes + replaces + inserts)\n",
        "\n",
        "def get_candidates(word, vocabulary):\n",
        "    # Get candidate corrections for the misspelled word\n",
        "    candidates = {w for w in edits1(word) if w in vocabulary}\n",
        "    print(f\"Candidates for '{word}':\", candidates)  # Print candidate corrections\n",
        "    return candidates\n",
        "\n",
        "def get_multigram_candidates(misspelled_word, words, vocabulary):\n",
        "    # Generate multi-word candidates by combining single-word candidates\n",
        "    candidates = set()\n",
        "    for i in range(len(words)):\n",
        "        for j in range(i + 1, len(words) + 1):\n",
        "            candidate = ' '.join(words[i:j])\n",
        "            if candidate in vocabulary:\n",
        "                candidates.add(candidate)\n",
        "    return candidates\n",
        "\n",
        "def bigram_probability(sentence, bigram_freq):\n",
        "    words = tokenize(sentence)\n",
        "    bigram_prob = 1.0\n",
        "    for i in range(len(words) - 1):\n",
        "        bigram = (words[i], words[i+1])\n",
        "        # Add a small constant to avoid zero probability\n",
        "        bigram_prob *= (bigram_freq[bigram] + 1) / sum(bigram_freq.values())\n",
        "    return bigram_prob\n",
        "\n",
        "def correct_spelling(text, vocabulary, bigram_freq):\n",
        "    words = tokenize(text)\n",
        "    misspellings = find_misspellings(text, vocabulary)\n",
        "\n",
        "    corrected_text = words[:]\n",
        "\n",
        "    for misspelled_word in misspellings:\n",
        "        candidates = get_candidates(misspelled_word, vocabulary)\n",
        "        multi_candidates = get_multigram_candidates(misspelled_word, words, vocabulary)\n",
        "\n",
        "        # Combine single-word and multi-word candidates\n",
        "        all_candidates = candidates.union(multi_candidates)\n",
        "\n",
        "        if all_candidates:\n",
        "            best_candidate = max(\n",
        "                all_candidates,\n",
        "                key=lambda candidate: bigram_probability(\n",
        "                    ' '.join(words).replace(misspelled_word, candidate), bigram_freq\n",
        "                )\n",
        "            )\n",
        "            print(f\"Replacing '{misspelled_word}' with '{best_candidate}'\")  # Print replacement info\n",
        "            corrected_text = [best_candidate if w == misspelled_word else w for w in corrected_text]\n",
        "\n",
        "    return ' '.join(corrected_text)\n",
        "\n",
        "# Example corpus and test case\n",
        "corpus = (\n",
        "    \"Knowledge is power. The pen is mightier than the sword. Actions speak louder than \"\n",
        "    \"words. Practice makes perfect. Better late than never. Birds of a feather flock together. \"\n",
        "    \"A picture is worth a thousand words. When the going gets tough, the tough get going. \"\n",
        "    \"Fortune favors the bold. Honesty is the best policy. Every cloud has a silver lining.\"\n",
        ")\n",
        "\n",
        "# Corrected multi-line string\n",
        "input_text = (\n",
        "    \"Knwledge is powr. The pen is mighter than the sord. Practce makes prfect. \"\n",
        "    \"A picure is worth a tousand words.\"\n",
        ")\n",
        "\n",
        "# Building vocabulary and bigram frequency table\n",
        "vocabulary, bigram_freq = build_vocabulary_and_bigrams(corpus)\n",
        "\n",
        "# Correct the input text\n",
        "corrected_text = correct_spelling(input_text, vocabulary, bigram_freq)\n",
        "print(\"Corrected Text:\", corrected_text)\n"
      ],
      "metadata": {
        "colab": {
          "base_uri": "https://localhost:8080/"
        },
        "id": "aLa-vW4RrpM0",
        "outputId": "b8cb2e98-0e49-4329-9c3f-11ab2fc36c6c"
      },
      "execution_count": 20,
      "outputs": [
        {
          "output_type": "stream",
          "name": "stdout",
          "text": [
            "Vocabulary: {'flock', 'together', 'worth', 'sword', 'best', 'every', 'speak', 'practice', 'silver', 'policy', 'fortune', 'perfect', 'is', 'the', 'words', 'actions', 'honesty', 'has', 'a', 'mightier', 'never', 'feather', 'of', 'birds', 'bold', 'lining', 'thousand', 'late', 'picture', 'louder', 'gets', 'better', 'favors', 'tough', 'get', 'knowledge', 'pen', 'power', 'than', 'cloud', 'when', 'going', 'makes'}\n",
            "Bigram Frequency Table: {('knowledge', 'is'): 1, ('is', 'power'): 1, ('power', 'the'): 1, ('the', 'pen'): 1, ('pen', 'is'): 1, ('is', 'mightier'): 1, ('mightier', 'than'): 1, ('than', 'the'): 1, ('the', 'sword'): 1, ('sword', 'actions'): 1, ('actions', 'speak'): 1, ('speak', 'louder'): 1, ('louder', 'than'): 1, ('than', 'words'): 1, ('words', 'practice'): 1, ('practice', 'makes'): 1, ('makes', 'perfect'): 1, ('perfect', 'better'): 1, ('better', 'late'): 1, ('late', 'than'): 1, ('than', 'never'): 1, ('never', 'birds'): 1, ('birds', 'of'): 1, ('of', 'a'): 1, ('a', 'feather'): 1, ('feather', 'flock'): 1, ('flock', 'together'): 1, ('together', 'a'): 1, ('a', 'picture'): 1, ('picture', 'is'): 1, ('is', 'worth'): 1, ('worth', 'a'): 1, ('a', 'thousand'): 1, ('thousand', 'words'): 1, ('words', 'when'): 1, ('when', 'the'): 1, ('the', 'going'): 1, ('going', 'gets'): 1, ('gets', 'tough'): 1, ('tough', 'the'): 1, ('the', 'tough'): 1, ('tough', 'get'): 1, ('get', 'going'): 1, ('going', 'fortune'): 1, ('fortune', 'favors'): 1, ('favors', 'the'): 1, ('the', 'bold'): 1, ('bold', 'honesty'): 1, ('honesty', 'is'): 1, ('is', 'the'): 1, ('the', 'best'): 1, ('best', 'policy'): 1, ('policy', 'every'): 1, ('every', 'cloud'): 1, ('cloud', 'has'): 1, ('has', 'a'): 1, ('a', 'silver'): 1, ('silver', 'lining'): 1}\n",
            "Identified Misspellings: ['knwledge', 'powr', 'mighter', 'sord', 'practce', 'prfect', 'picure', 'tousand']\n",
            "Candidates for 'knwledge': {'knowledge'}\n",
            "Replacing 'knwledge' with 'knowledge'\n",
            "Candidates for 'powr': {'power'}\n",
            "Replacing 'powr' with 'power'\n",
            "Candidates for 'mighter': {'mightier'}\n",
            "Replacing 'mighter' with 'mightier'\n",
            "Candidates for 'sord': {'sword'}\n",
            "Replacing 'sord' with 'sword'\n",
            "Candidates for 'practce': {'practice'}\n",
            "Replacing 'practce' with 'practice'\n",
            "Candidates for 'prfect': {'perfect'}\n",
            "Replacing 'prfect' with 'worth'\n",
            "Candidates for 'picure': {'picture'}\n",
            "Replacing 'picure' with 'picture'\n",
            "Candidates for 'tousand': {'thousand'}\n",
            "Replacing 'tousand' with 'thousand'\n",
            "Corrected Text: knowledge is power the pen is mightier than the sword practice makes worth a picture is worth a thousand words\n"
          ]
        }
      ]
    },
    {
      "cell_type": "code",
      "source": [
        "!pip install numpy pandas scikit-learn nltk\n"
      ],
      "metadata": {
        "colab": {
          "base_uri": "https://localhost:8080/"
        },
        "id": "iE256RfOSkEV",
        "outputId": "6827e3d8-eee3-4090-e5f4-af6fce358aa5"
      },
      "execution_count": null,
      "outputs": [
        {
          "output_type": "stream",
          "name": "stdout",
          "text": [
            "Requirement already satisfied: numpy in /usr/local/lib/python3.10/dist-packages (1.26.4)\n",
            "Requirement already satisfied: pandas in /usr/local/lib/python3.10/dist-packages (2.2.2)\n",
            "Requirement already satisfied: scikit-learn in /usr/local/lib/python3.10/dist-packages (1.5.2)\n",
            "Requirement already satisfied: nltk in /usr/local/lib/python3.10/dist-packages (3.8.1)\n",
            "Requirement already satisfied: python-dateutil>=2.8.2 in /usr/local/lib/python3.10/dist-packages (from pandas) (2.8.2)\n",
            "Requirement already satisfied: pytz>=2020.1 in /usr/local/lib/python3.10/dist-packages (from pandas) (2024.2)\n",
            "Requirement already satisfied: tzdata>=2022.7 in /usr/local/lib/python3.10/dist-packages (from pandas) (2024.2)\n",
            "Requirement already satisfied: scipy>=1.6.0 in /usr/local/lib/python3.10/dist-packages (from scikit-learn) (1.13.1)\n",
            "Requirement already satisfied: joblib>=1.2.0 in /usr/local/lib/python3.10/dist-packages (from scikit-learn) (1.4.2)\n",
            "Requirement already satisfied: threadpoolctl>=3.1.0 in /usr/local/lib/python3.10/dist-packages (from scikit-learn) (3.5.0)\n",
            "Requirement already satisfied: click in /usr/local/lib/python3.10/dist-packages (from nltk) (8.1.7)\n",
            "Requirement already satisfied: regex>=2021.8.3 in /usr/local/lib/python3.10/dist-packages (from nltk) (2024.9.11)\n",
            "Requirement already satisfied: tqdm in /usr/local/lib/python3.10/dist-packages (from nltk) (4.66.6)\n",
            "Requirement already satisfied: six>=1.5 in /usr/local/lib/python3.10/dist-packages (from python-dateutil>=2.8.2->pandas) (1.16.0)\n"
          ]
        }
      ]
    },
    {
      "cell_type": "code",
      "source": [
        "import nltk\n",
        "nltk.download('movie_reviews')\n",
        "import numpy as np\n",
        "import pandas as pd\n",
        "from sklearn.model_selection import train_test_split\n",
        "from sklearn.feature_extraction.text import CountVectorizer\n",
        "from sklearn.metrics import accuracy_score, classification_report\n",
        "from nltk.corpus import movie_reviews\n",
        "\n",
        "# Load positive and negative reviews\n",
        "positive_fileids = movie_reviews.fileids('pos')\n",
        "negative_fileids = movie_reviews.fileids('neg')\n",
        "\n",
        "documents = [(movie_reviews.raw(fileid), 'pos') for fileid in positive_fileids]\n",
        "documents.extend([(movie_reviews.raw(fileid), 'neg') for fileid in negative_fileids])\n",
        "\n",
        "# Create DataFrame\n",
        "df = pd.DataFrame(documents, columns=['text', 'label'])\n",
        "\n",
        "# Split dataset into training and testing sets\n",
        "X_train, X_test, y_train, y_test = train_test_split(df['text'], df['label'], test_size=0.2, random_state=42)\n",
        "\n",
        "# Vectorize text data\n",
        "vectorizer = CountVectorizer()\n",
        "X_train_vectorized = vectorizer.fit_transform(X_train)\n",
        "X_test_vectorized = vectorizer.transform(X_test)\n",
        "\n",
        "# Define Naive Bayes classifier\n",
        "class NaiveBayes:\n",
        "    def __init__(self, k=1):\n",
        "        self.k = k\n",
        "\n",
        "    def fit(self, X, y):\n",
        "        self.classes = np.unique(y)\n",
        "        self.class_counts = {c: 0 for c in self.classes}\n",
        "        self.feature_counts = {c: np.zeros(X.shape[1]) for c in self.classes}\n",
        "\n",
        "        for i, c in enumerate(y):\n",
        "            self.class_counts[c] += 1\n",
        "            self.feature_counts[c] += X[i].toarray()[0]\n",
        "\n",
        "        self.total_documents = len(y)\n",
        "        self.vocab_size = X.shape[1]\n",
        "\n",
        "    def predict(self, X):\n",
        "        predictions = []\n",
        "        for i in range(X.shape[0]):\n",
        "            post_probs = {}\n",
        "            for c in self.classes:\n",
        "                class_prob = (self.class_counts[c] + self.k) / (self.total_documents + self.k * len(self.classes))\n",
        "                feature_prob = np.sum((X[i].toarray()[0] + self.k) / (self.feature_counts[c] + self.k * self.vocab_size))\n",
        "                post_probs[c] = class_prob * feature_prob\n",
        "\n",
        "            predictions.append(max(post_probs, key=post_probs.get))\n",
        "        return np.array(predictions)\n",
        "\n",
        "# Train and evaluate the model with different smoothing parameters\n",
        "k_values = [0.25, 0.75, 1]\n",
        "results = {}\n",
        "\n",
        "for k in k_values:\n",
        "    model = NaiveBayes(k=k)\n",
        "    model.fit(X_train_vectorized, y_train)\n",
        "    y_pred = model.predict(X_test_vectorized)\n",
        "\n",
        "    accuracy = accuracy_score(y_test, y_pred)\n",
        "    results[k] = accuracy\n",
        "    print(f\"Accuracy for k={k}: {accuracy:.4f}\")\n",
        "    print(classification_report(y_test, y_pred))\n"
      ],
      "metadata": {
        "colab": {
          "base_uri": "https://localhost:8080/"
        },
        "id": "VxHJijS1SgNb",
        "outputId": "477641c7-83c8-467f-92e1-55f1448064f9"
      },
      "execution_count": 18,
      "outputs": [
        {
          "output_type": "stream",
          "name": "stderr",
          "text": [
            "[nltk_data] Downloading package movie_reviews to /root/nltk_data...\n",
            "[nltk_data]   Unzipping corpora/movie_reviews.zip.\n"
          ]
        },
        {
          "output_type": "stream",
          "name": "stdout",
          "text": [
            "Accuracy for k=0.25: 0.4950\n",
            "              precision    recall  f1-score   support\n",
            "\n",
            "         neg       0.00      0.00      0.00       201\n",
            "         pos       0.50      0.99      0.66       199\n",
            "\n",
            "    accuracy                           0.49       400\n",
            "   macro avg       0.25      0.50      0.33       400\n",
            "weighted avg       0.25      0.49      0.33       400\n",
            "\n",
            "Accuracy for k=0.75: 0.4975\n",
            "              precision    recall  f1-score   support\n",
            "\n",
            "         neg       0.00      0.00      0.00       201\n",
            "         pos       0.50      1.00      0.66       199\n",
            "\n",
            "    accuracy                           0.50       400\n",
            "   macro avg       0.25      0.50      0.33       400\n",
            "weighted avg       0.25      0.50      0.33       400\n",
            "\n"
          ]
        },
        {
          "output_type": "stream",
          "name": "stderr",
          "text": [
            "/usr/local/lib/python3.10/dist-packages/sklearn/metrics/_classification.py:1531: UndefinedMetricWarning: Precision is ill-defined and being set to 0.0 in labels with no predicted samples. Use `zero_division` parameter to control this behavior.\n",
            "  _warn_prf(average, modifier, f\"{metric.capitalize()} is\", len(result))\n",
            "/usr/local/lib/python3.10/dist-packages/sklearn/metrics/_classification.py:1531: UndefinedMetricWarning: Precision is ill-defined and being set to 0.0 in labels with no predicted samples. Use `zero_division` parameter to control this behavior.\n",
            "  _warn_prf(average, modifier, f\"{metric.capitalize()} is\", len(result))\n",
            "/usr/local/lib/python3.10/dist-packages/sklearn/metrics/_classification.py:1531: UndefinedMetricWarning: Precision is ill-defined and being set to 0.0 in labels with no predicted samples. Use `zero_division` parameter to control this behavior.\n",
            "  _warn_prf(average, modifier, f\"{metric.capitalize()} is\", len(result))\n"
          ]
        },
        {
          "output_type": "stream",
          "name": "stdout",
          "text": [
            "Accuracy for k=1: 0.4975\n",
            "              precision    recall  f1-score   support\n",
            "\n",
            "         neg       0.00      0.00      0.00       201\n",
            "         pos       0.50      1.00      0.66       199\n",
            "\n",
            "    accuracy                           0.50       400\n",
            "   macro avg       0.25      0.50      0.33       400\n",
            "weighted avg       0.25      0.50      0.33       400\n",
            "\n"
          ]
        },
        {
          "output_type": "stream",
          "name": "stderr",
          "text": [
            "/usr/local/lib/python3.10/dist-packages/sklearn/metrics/_classification.py:1531: UndefinedMetricWarning: Precision is ill-defined and being set to 0.0 in labels with no predicted samples. Use `zero_division` parameter to control this behavior.\n",
            "  _warn_prf(average, modifier, f\"{metric.capitalize()} is\", len(result))\n",
            "/usr/local/lib/python3.10/dist-packages/sklearn/metrics/_classification.py:1531: UndefinedMetricWarning: Precision is ill-defined and being set to 0.0 in labels with no predicted samples. Use `zero_division` parameter to control this behavior.\n",
            "  _warn_prf(average, modifier, f\"{metric.capitalize()} is\", len(result))\n",
            "/usr/local/lib/python3.10/dist-packages/sklearn/metrics/_classification.py:1531: UndefinedMetricWarning: Precision is ill-defined and being set to 0.0 in labels with no predicted samples. Use `zero_division` parameter to control this behavior.\n",
            "  _warn_prf(average, modifier, f\"{metric.capitalize()} is\", len(result))\n"
          ]
        }
      ]
    },
    {
      "cell_type": "code",
      "source": [
        "import numpy as np\n",
        "\n",
        "def viterbi_algorithm(sentence, states, start_probabilities, transition_probs, emission_probs):\n",
        "    # Initialize the matrices\n",
        "    num_states = len(states)\n",
        "    num_words = len(sentence)\n",
        "\n",
        "    viterbi = np.zeros((num_states, num_words))\n",
        "    backtrack = np.zeros((num_states, num_words), dtype=int)\n",
        "\n",
        "    # Initialization step\n",
        "    for state_index, state in enumerate(states):\n",
        "        viterbi[state_index, 0] = start_probabilities.get(state, 0) * emission_probs.get(state, {}).get(sentence[0], 0)\n",
        "\n",
        "    # Recursion step\n",
        "    for t in range(1, num_words):\n",
        "        for current_state_index, current_state in enumerate(states):\n",
        "            max_prob = 0\n",
        "            prev_state_index = 0\n",
        "\n",
        "            for previous_state_index, previous_state in enumerate(states):\n",
        "                prob = (\n",
        "                    viterbi[previous_state_index, t - 1]\n",
        "                    * transition_probs.get(previous_state, {}).get(current_state, 0)\n",
        "                    * emission_probs.get(current_state, {}).get(sentence[t], 0)\n",
        "                )\n",
        "                if prob > max_prob:\n",
        "                    max_prob = prob\n",
        "                    prev_state_index = previous_state_index\n",
        "\n",
        "            viterbi[current_state_index, t] = max_prob\n",
        "            backtrack[current_state_index, t] = prev_state_index\n",
        "\n",
        "    # Termination step\n",
        "    final_prob = np.max(viterbi[:, -1])\n",
        "    final_state_index = np.argmax(viterbi[:, -1])\n",
        "\n",
        "    # Backtracking to find the best path\n",
        "    best_sequence = []\n",
        "    for t in range(num_words - 1, -1, -1):\n",
        "        best_sequence.insert(0, states[final_state_index])\n",
        "        final_state_index = backtrack[final_state_index, t]\n",
        "\n",
        "    return best_sequence, final_prob\n",
        "\n",
        "# Example input data\n",
        "states = ['NN', 'VB', 'JJ', 'RB']\n",
        "sentence = [\"time\", \"flies\", \"fast\"]\n",
        "start_probabilities = {'NN': 0.5, 'VB': 0.25, 'JJ': 0.25, 'RB': 0}\n",
        "transition_probabilities = {\n",
        "    'START': {'NN': 0.5, 'VB': 0.25, 'JJ': 0.25, 'RB': 0},\n",
        "    'NN': {'NN': 0.25, 'VB': 0.5, 'JJ': 0, 'RB': 0},\n",
        "    'VB': {'NN': 0.25, 'VB': 0.25, 'JJ': 0.25, 'RB': 0.25},\n",
        "    'JJ': {'NN': 0.75, 'VB': 0, 'JJ': 0.25, 'RB': 0},\n",
        "    'RB': {'NN': 0.25, 'VB': 0.25, 'JJ': 0, 'RB': 0.5},\n",
        "}\n",
        "emission_probabilities = {\n",
        "    'NN': {'time': 0.1, 'flies': 0.01, 'fast': 0.01},\n",
        "    'VB': {'time': 0.01, 'flies': 0.1, 'fast': 0.01},\n",
        "    'JJ': {'time': 0, 'flies': 0, 'fast': 0.1},\n",
        "    'RB': {'time': 0, 'flies': 0, 'fast': 0.1},\n",
        "}\n",
        "\n",
        "# Run the algorithm\n",
        "best_sequence, best_probability = viterbi_algorithm(\n",
        "    sentence, states, start_probabilities, transition_probabilities, emission_probabilities\n",
        ")\n",
        "\n",
        "# Print results\n",
        "\n",
        "print(f\"Input Sentence: {' '.join(sentence)}\")\n",
        "print(f\"Best POS Tag Sequence: {' -> '.join(best_sequence)}\")\n",
        "print(f\"Probability of the Best Sequence: {best_probability:.10f}\")\n",
        "\n"
      ],
      "metadata": {
        "colab": {
          "base_uri": "https://localhost:8080/"
        },
        "id": "pDQloIONZTeX",
        "outputId": "f4b7c565-146b-4081-8b64-634e738061bd"
      },
      "execution_count": 5,
      "outputs": [
        {
          "output_type": "stream",
          "name": "stdout",
          "text": [
            "Input Sentence: time flies fast\n",
            "Best POS Tag Sequence: NN -> VB -> JJ\n",
            "Probability of the Best Sequence: 0.0000625000\n"
          ]
        }
      ]
    },
    {
      "cell_type": "code",
      "source": [
        "from collections import defaultdict\n",
        "import math\n",
        "\n",
        "def compute_bigrams(corpus):\n",
        "    tokens = corpus.split()  # Tokenize the text into words\n",
        "    unigram_counts = defaultdict(int)\n",
        "    bigram_counts = defaultdict(int)\n",
        "\n",
        "    # Count unigrams and bigrams\n",
        "    for idx in range(len(tokens)):\n",
        "        unigram_counts[tokens[idx]] += 1\n",
        "        if idx < len(tokens) - 1:\n",
        "            bigram_counts[(tokens[idx], tokens[idx + 1])] += 1\n",
        "\n",
        "    # Calculate bigram probabilities\n",
        "    bigram_probs = {}\n",
        "    for bigram, count in bigram_counts.items():\n",
        "        bigram_probs[bigram] = count / unigram_counts[bigram[0]]\n",
        "\n",
        "    return unigram_counts, bigram_counts, bigram_probs\n",
        "\n",
        "def compute_sentence_probability(sentence, bigram_probs):\n",
        "    words = sentence.split()\n",
        "    probability = 1.0\n",
        "\n",
        "    for idx in range(len(words) - 1):\n",
        "        bigram = (words[idx], words[idx + 1])\n",
        "        if bigram in bigram_probs:\n",
        "            probability *= bigram_probs[bigram]\n",
        "        else:\n",
        "            probability *= 0.0001  # Assign small probability for unseen bigrams\n",
        "\n",
        "    return probability\n",
        "\n",
        "# Sample corpus and sentence\n",
        "dataset = (\n",
        "    \"the quick brown fox jumps over the lazy dog \"\n",
        "    \"a quick brown dog outpaces a quick fox\"\n",
        ")\n",
        "input_text = \"the quick brown fox jumps\"\n",
        "\n",
        "# Compute probabilities\n",
        "unigrams, bigrams, probabilities = compute_bigrams(dataset)\n",
        "text_probability = compute_sentence_probability(input_text, probabilities)\n",
        "\n",
        "# Display results\n",
        "print(\"Unigram Counts:\", dict(unigrams))\n",
        "print(\"\\nBigram Counts:\", dict(bigrams))\n",
        "print(\"\\nBigram Probabilities:\", {k: round(v, 6) for k, v in probabilities.items()})\n",
        "print(f\"\\nProbability of the sentence '{input_text}': {text_probability:.10f}\")\n"
      ],
      "metadata": {
        "colab": {
          "base_uri": "https://localhost:8080/"
        },
        "id": "rlVtuabJasMc",
        "outputId": "29e43d07-530f-4bed-8131-aa02f9ea8d40"
      },
      "execution_count": 7,
      "outputs": [
        {
          "output_type": "stream",
          "name": "stdout",
          "text": [
            "Unigram Counts: {'the': 2, 'quick': 3, 'brown': 2, 'fox': 2, 'jumps': 1, 'over': 1, 'lazy': 1, 'dog': 2, 'a': 2, 'outpaces': 1}\n",
            "\n",
            "Bigram Counts: {('the', 'quick'): 1, ('quick', 'brown'): 2, ('brown', 'fox'): 1, ('fox', 'jumps'): 1, ('jumps', 'over'): 1, ('over', 'the'): 1, ('the', 'lazy'): 1, ('lazy', 'dog'): 1, ('dog', 'a'): 1, ('a', 'quick'): 2, ('brown', 'dog'): 1, ('dog', 'outpaces'): 1, ('outpaces', 'a'): 1, ('quick', 'fox'): 1}\n",
            "\n",
            "Bigram Probabilities: {('the', 'quick'): 0.5, ('quick', 'brown'): 0.666667, ('brown', 'fox'): 0.5, ('fox', 'jumps'): 0.5, ('jumps', 'over'): 1.0, ('over', 'the'): 1.0, ('the', 'lazy'): 0.5, ('lazy', 'dog'): 1.0, ('dog', 'a'): 0.5, ('a', 'quick'): 1.0, ('brown', 'dog'): 0.5, ('dog', 'outpaces'): 0.5, ('outpaces', 'a'): 1.0, ('quick', 'fox'): 0.333333}\n",
            "\n",
            "Probability of the sentence 'the quick brown fox jumps': 0.0833333333\n"
          ]
        }
      ]
    },
    {
      "cell_type": "code",
      "source": [
        "from sklearn.feature_extraction.text import TfidfVectorizer\n",
        "from sklearn.metrics.pairwise import cosine_similarity\n",
        "import numpy as np\n",
        "\n",
        "def compute_tfidf_similarity(docs):\n",
        "    \"\"\"Calculate TF-IDF matrix and cosine similarities.\"\"\"\n",
        "    # Generate the TF-IDF matrix\n",
        "    tfidf_vectorizer = TfidfVectorizer()\n",
        "    tfidf_matrix = tfidf_vectorizer.fit_transform(docs)\n",
        "\n",
        "    # Compute cosine similarity between first two documents\n",
        "    cosine_sim = cosine_similarity(tfidf_matrix[0:1], tfidf_matrix[1:2])[0][0]\n",
        "\n",
        "    return tfidf_vectorizer, tfidf_matrix, cosine_sim\n",
        "\n",
        "def word_similarity(word1, word2, vectorizer, matrix):\n",
        "    \"\"\"Calculate cosine similarity between vectors of two words.\"\"\"\n",
        "    try:\n",
        "        idx1, idx2 = vectorizer.vocabulary_[word1], vectorizer.vocabulary_[word2]\n",
        "        word_vec1, word_vec2 = matrix[:, idx1].toarray().flatten(), matrix[:, idx2].toarray().flatten()\n",
        "        return cosine_similarity([word_vec1], [word_vec2])[0][0]\n",
        "    except KeyError:\n",
        "        return 0.0  # Return zero if a word is not found in the vocabulary\n",
        "\n",
        "# Example documents\n",
        "sample_docs = [\n",
        "    \"time flies fast\",\n",
        "    \"flies are flying fast\",\n",
        "    \"fast time is good\",\n",
        "]\n",
        "\n",
        "# Compute TF-IDF and similarities\n",
        "vectorizer, tfidf_matrix, doc_similarity = compute_tfidf_similarity(sample_docs)\n",
        "word_pair_similarity = word_similarity('time', 'flies', vectorizer, tfidf_matrix)\n",
        "\n",
        "# Output\n",
        "print(\"\\nTF-IDF Matrix (as a Matrix):\")\n",
        "tfidf_matrix_array = tfidf_matrix.toarray()\n",
        "terms = vectorizer.get_feature_names_out()\n",
        "\n",
        "# Print the matrix with terms\n",
        "print(\"      \" + \"  \".join(f\"{term:10}\" for term in terms))  # Print terms as column headers\n",
        "for i, row in enumerate(tfidf_matrix_array):\n",
        "    print(f\"Doc {i+1}: \" + \"  \".join(f\"{val:.4f}\" for val in row))  # Print each document's vector\n",
        "\n",
        "print(\"\\nDocument Similarities:\")\n",
        "print(f\"Similarity between Document 1 and Document 2: {doc_similarity:.4f}\")\n",
        "\n",
        "print(\"\\nWord Similarities:\")\n",
        "print(f\"Similarity between 'time' and 'flies': {word_pair_similarity:.4f}\")\n"
      ],
      "metadata": {
        "colab": {
          "base_uri": "https://localhost:8080/"
        },
        "id": "C60GeUxRcmEX",
        "outputId": "f9ab30df-6b14-4223-8b8b-87463c743707"
      },
      "execution_count": 10,
      "outputs": [
        {
          "output_type": "stream",
          "name": "stdout",
          "text": [
            "\n",
            "TF-IDF Matrix (as a Matrix):\n",
            "      are         fast        flies       flying      good        is          time      \n",
            "Doc 1: 0.0000  0.4813  0.6198  0.0000  0.0000  0.0000  0.6198\n",
            "Doc 2: 0.5845  0.3452  0.4445  0.5845  0.0000  0.0000  0.0000\n",
            "Doc 3: 0.0000  0.3452  0.0000  0.0000  0.5845  0.5845  0.4445\n",
            "\n",
            "Document Similarities:\n",
            "Similarity between Document 1 and Document 2: 0.4417\n",
            "\n",
            "Word Similarities:\n",
            "Similarity between 'time' and 'flies': 0.6603\n"
          ]
        }
      ]
    },
    {
      "cell_type": "code",
      "source": [
        "import numpy as np\n",
        "from collections import defaultdict\n",
        "from sklearn.metrics.pairwise import cosine_similarity\n",
        "\n",
        "def generate_ppmi_matrix(corpus):\n",
        "    \"\"\"Generate PPMI matrix from a list of documents.\"\"\"\n",
        "    word_freq = defaultdict(int)\n",
        "    co_occurrence = defaultdict(int)\n",
        "    total_words = 0\n",
        "\n",
        "    # Step 1: Calculate word frequencies and co-occurrence counts\n",
        "    for sentence in corpus:\n",
        "        words = sentence.split()\n",
        "        total_words += len(words)\n",
        "        for i, word in enumerate(words):\n",
        "            word_freq[word] += 1\n",
        "            for j in range(i + 1, len(words)):\n",
        "                co_occurrence[(word, words[j])] += 1\n",
        "                co_occurrence[(words[j], word)] += 1\n",
        "\n",
        "    # Step 2: Build vocabulary and index\n",
        "    vocabulary = sorted(word_freq.keys())\n",
        "    vocab_size = len(vocabulary)\n",
        "    word_to_index = {word: idx for idx, word in enumerate(vocabulary)}\n",
        "\n",
        "    # Step 3: Create co-occurrence matrix\n",
        "    co_occurrence_matrix = np.zeros((vocab_size, vocab_size))\n",
        "    for (word1, word2), count in co_occurrence.items():\n",
        "        idx1, idx2 = word_to_index[word1], word_to_index[word2]\n",
        "        co_occurrence_matrix[idx1, idx2] = count\n",
        "\n",
        "    # Step 4: Compute PPMI matrix\n",
        "    ppmi_matrix = np.zeros_like(co_occurrence_matrix)\n",
        "    for i in range(vocab_size):\n",
        "        for j in range(vocab_size):\n",
        "            joint_prob = co_occurrence_matrix[i, j] / total_words\n",
        "            if joint_prob > 0:\n",
        "                ppmi_value = np.log2(joint_prob / (word_freq[vocabulary[i]] / total_words * word_freq[vocabulary[j]] / total_words))\n",
        "                ppmi_matrix[i, j] = max(0, ppmi_value)\n",
        "\n",
        "    return ppmi_matrix, word_to_index\n",
        "\n",
        "def calculate_cosine_similarity(matrix, vocab_index, term1, term2):\n",
        "    \"\"\"Calculate cosine similarity between two words based on PPMI vectors.\"\"\"\n",
        "    idx1, idx2 = vocab_index[term1], vocab_index[term2]\n",
        "    vector1, vector2 = matrix[idx1], matrix[idx2]\n",
        "    return cosine_similarity([vector1], [vector2])[0][0]\n",
        "\n",
        "# Training corpus (documents)\n",
        "documents = [\n",
        "    \"the quick brown fox jumps over the lazy dog\",\n",
        "    \"the quick brown fox is very quick\",\n",
        "    \"the lazy dog sleeps all day\",\n",
        "]\n",
        "\n",
        "# Step 1: Generate PPMI matrix and word-to-index mapping\n",
        "ppmi_matrix, vocab_index = generate_ppmi_matrix(documents)\n",
        "\n",
        "# Example 1: Cosine similarity between two words\n",
        "word1 = \"quick\"\n",
        "word2 = \"lazy\"\n",
        "similarity_between_words = calculate_cosine_similarity(ppmi_matrix, vocab_index, word1, word2)\n",
        "\n",
        "# Step 2: Output the word similarity result\n",
        "print(f\"--- Word Similarity Analysis ---\")\n",
        "print(f\"Words compared: '{word1}' and '{word2}'\")\n",
        "print(f\"Cosine Similarity: {similarity_between_words:.4f}\")\n",
        "if similarity_between_words > 0.5:\n",
        "    print(\"Interpretation: These words are quite similar in the context of the corpus.\")\n",
        "else:\n",
        "    print(\"Interpretation: These words are not very similar in the context of the corpus.\")\n",
        "\n",
        "# Example 2: Cosine similarity between two documents based on PPMI vectors\n",
        "doc_ppmi_vectors = np.zeros((len(documents), ppmi_matrix.shape[0]))\n",
        "for doc_idx, doc in enumerate(documents):\n",
        "    words = doc.split()\n",
        "    for word in words:\n",
        "        if word in vocab_index:\n",
        "            doc_ppmi_vectors[doc_idx] += ppmi_matrix[vocab_index[word]]\n",
        "\n",
        "# Calculate document similarity\n",
        "doc_similarity = cosine_similarity([doc_ppmi_vectors[0]], [doc_ppmi_vectors[1]])[0][0]\n",
        "\n",
        "# Step 3: Output the document similarity result\n",
        "print(f\"\\n--- Document Similarity Analysis ---\")\n",
        "print(f\"Documents compared: Document 1 and Document 2\")\n",
        "print(f\"Cosine Similarity: {doc_similarity:.4f}\")\n",
        "if doc_similarity > 0.7:\n",
        "    print(\"Interpretation: These documents are highly similar in terms of content and context.\")\n",
        "elif doc_similarity > 0.4:\n",
        "    print(\"Interpretation: These documents share some similarities but differ in context.\")\n",
        "else:\n",
        "    print(\"Interpretation: These documents are quite different from each other in terms of content.\")\n"
      ],
      "metadata": {
        "colab": {
          "base_uri": "https://localhost:8080/"
        },
        "id": "yoBIZts-fUrz",
        "outputId": "cae4cab6-46c3-482d-a5cd-8d5eda9ec8c5"
      },
      "execution_count": 11,
      "outputs": [
        {
          "output_type": "stream",
          "name": "stdout",
          "text": [
            "--- Word Similarity Analysis ---\n",
            "Words compared: 'quick' and 'lazy'\n",
            "Cosine Similarity: 0.6016\n",
            "Interpretation: These words are quite similar in the context of the corpus.\n",
            "\n",
            "--- Document Similarity Analysis ---\n",
            "Documents compared: Document 1 and Document 2\n",
            "Cosine Similarity: 0.9336\n",
            "Interpretation: These documents are highly similar in terms of content and context.\n"
          ]
        }
      ]
    },
    {
      "cell_type": "code",
      "source": [
        "import math\n",
        "from collections import defaultdict\n",
        "\n",
        "# Training data\n",
        "training_examples = [\n",
        "    {\"text\": \"I love fish. The smoked bass fish was delicious.\", \"label\": \"fish\"},\n",
        "    {\"text\": \"The bass fish swam along the line.\", \"label\": \"fish\"},\n",
        "    {\"text\": \"He hauled in a big catch of smoked bass fish.\", \"label\": \"fish\"},\n",
        "    {\"text\": \"The bass guitar player played a smooth jazz line.\", \"label\": \"guitar\"},\n",
        "]\n",
        "\n",
        "# Test data\n",
        "sentence_to_classify = \"He loves jazz. The bass line provided the foundation for the guitar solo in the jazz piece\"\n",
        "target_word = \"bass\"\n",
        "\n",
        "# 1. Tokenization and preparation of vocabulary and feature counts\n",
        "def tokenize_text(text):\n",
        "    return text.lower().replace(\".\", \"\").replace(\",\", \"\").split()\n",
        "\n",
        "# Initialize vocabulary and word frequency counts for each sense\n",
        "vocabulary = set()\n",
        "sense_word_frequencies = defaultdict(lambda: defaultdict(int))\n",
        "sense_labels = defaultdict(int)\n",
        "\n",
        "# Process the training data\n",
        "for example in training_examples:\n",
        "    words = tokenize_text(example[\"text\"])\n",
        "    label = example[\"label\"]\n",
        "    sense_labels[label] += 1\n",
        "    for word in words:\n",
        "        if word != target_word:  # Skip the ambiguous word\n",
        "            vocabulary.add(word)\n",
        "            sense_word_frequencies[label][word] += 1\n",
        "\n",
        "# 2. Calculate probabilities using add-one smoothing (Laplace smoothing)\n",
        "vocabulary_size = len(vocabulary)\n",
        "total_documents = len(training_examples)\n",
        "prior_probabilities = {label: count / total_documents for label, count in sense_labels.items()}\n",
        "word_likelihoods = defaultdict(lambda: defaultdict(float))\n",
        "\n",
        "for label, word_counts in sense_word_frequencies.items():\n",
        "    total_words_in_label = sum(word_counts.values())\n",
        "    for word in vocabulary:\n",
        "        word_likelihoods[label][word] = (word_counts[word] + 1) / (total_words_in_label + vocabulary_size)\n",
        "\n",
        "# 3. Classify the test sentence\n",
        "test_words = tokenize_text(sentence_to_classify)\n",
        "log_posterior_probabilities = {}\n",
        "\n",
        "for label in sense_labels.keys():\n",
        "    # Start with the log of the prior probability\n",
        "    log_posterior_probabilities[label] = math.log(prior_probabilities[label])\n",
        "    for word in test_words:\n",
        "        if word != target_word and word in vocabulary:  # Skip the ambiguous word\n",
        "            log_posterior_probabilities[label] += math.log(word_likelihoods[label][word])\n",
        "\n",
        "# 4. Determine the most probable sense\n",
        "predicted_label = max(log_posterior_probabilities, key=log_posterior_probabilities.get)\n",
        "\n",
        "# Output with clear result and explanation\n",
        "print(f\"Predicted sense for the word '{target_word}' based on the test sentence:\\n\")\n",
        "print(f\"Test sentence: '{sentence_to_classify}'\")\n",
        "print(f\"Predicted sense: {predicted_label}\")\n"
      ],
      "metadata": {
        "colab": {
          "base_uri": "https://localhost:8080/"
        },
        "id": "U1t9KFScg8HQ",
        "outputId": "0640ceb0-5feb-440a-c851-6b28bf425374"
      },
      "execution_count": 12,
      "outputs": [
        {
          "output_type": "stream",
          "name": "stdout",
          "text": [
            "Predicted sense for the word 'bass' based on the test sentence:\n",
            "\n",
            "Test sentence: 'He loves jazz. The bass line provided the foundation for the guitar solo in the jazz piece'\n",
            "Predicted sense: guitar\n"
          ]
        }
      ]
    }
  ]
}